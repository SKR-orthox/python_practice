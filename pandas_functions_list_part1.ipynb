{
 "cells": [
  {
   "cell_type": "code",
   "execution_count": null,
   "id": "954a21d4",
   "metadata": {},
   "outputs": [],
   "source": [
    "#데이터프레임 생성\n",
    "import pandas as pd\n",
    "\n",
    "pd.DataFrame({\n",
    "    '이름': ['김일번', '이이번', '박삼번'],\n",
    "    '나이': ['11', '22', '33'],\n",
    "    '주소': ['경기도', '서울', '인천'],\n",
    "    '혈액형': ['A', 'B', 'O']\n",
    "    })"
   ]
  },
  {
   "cell_type": "code",
   "execution_count": null,
   "id": "f7779339",
   "metadata": {},
   "outputs": [],
   "source": [
    "#Series 작성\n",
    "import pandas as pd\n",
    "\n",
    "pd.Series(['김일번', '이이번', '박삼번'],\n",
    "          index = [3, 1, 2]\n",
    "          )"
   ]
  },
  {
   "cell_type": "code",
   "execution_count": null,
   "id": "5c4df226",
   "metadata": {},
   "outputs": [],
   "source": [
    "#엑셀 불러오기\n",
    "import pandas as pd\n",
    "\n",
    "df =pd.read_excel(\n",
    "    'pandas_sample_data.xlsx', index_col='종목코드', sheet_name='Sheet1')\n",
    "\n",
    "display(df)"
   ]
  },
  {
   "cell_type": "code",
   "execution_count": null,
   "id": "fa1beaf1",
   "metadata": {},
   "outputs": [],
   "source": [
    "#csv 불러오기 및 추출\n",
    "import pandas as pd\n",
    "\n",
    "df = pd.read_csv('pandas_sample_data.csv')\n",
    "\n",
    "df.loc[:,['종목명','종가']]\n",
    "df.loc[[0,4,5],:]\n",
    "df.iloc[[1,4,6],[4,5]]\n",
    "df.iloc[[5,4,6],:]\n",
    "df['종목코드'] #이걸로 시리즈 만들기\n",
    "display(df)"
   ]
  },
  {
   "cell_type": "code",
   "execution_count": null,
   "id": "1fd8f74c",
   "metadata": {},
   "outputs": [],
   "source": [
    "#불 인덱스, 특정조건하에서 추출\n",
    "import pandas as pd\n",
    "\n",
    "df = pd.read_csv('pandas_sample_data.csv')\n",
    "\n",
    "#and조건\n",
    "over_10b = df[(df['시가총액']>=10000000000) & (df['시장구분']=='KOSPI')& (df['거래량']>=10000)]\n",
    "#print(over_10b)\n",
    "\n",
    "#or조건\n",
    "DAQPI = df[(df['시장구분']=='KOSPI') | (df['시장구분']=='KOSDAQ')]\n",
    "print(DAQPI)"
   ]
  },
  {
   "cell_type": "code",
   "execution_count": null,
   "id": "2d985c99",
   "metadata": {},
   "outputs": [],
   "source": [
    "#통계, 연산\n",
    "import pandas as pd\n",
    "\n",
    "df = pd.read_csv('pandas_sample_data.csv')\n",
    "df['시가총액'].mean() #평균, numeric_only=True는 \n",
    "df['거래량'].std() #표준편차\n",
    "df['거래대금'].var() #분산\n",
    "df['저가'].median() #중앙값\n",
    "df['시가'].skew() #왜도\n",
    "df['고가'].kurt() #첨도\n",
    "df.mean(numeric_only=True) #숫치열의 평균만 구함함\n",
    "df['계산결과'] = df['종가']*df['거래량']\n",
    "df['회사이름'] = df['종목명'] + '회사' #시리즈 추가\n",
    "print(df['회사이름'])\n",
    "\n",
    "display(df)"
   ]
  }
 ],
 "metadata": {
  "kernelspec": {
   "display_name": "Python 3",
   "language": "python",
   "name": "python3"
  },
  "language_info": {
   "codemirror_mode": {
    "name": "ipython",
    "version": 3
   },
   "file_extension": ".py",
   "mimetype": "text/x-python",
   "name": "python",
   "nbconvert_exporter": "python",
   "pygments_lexer": "ipython3",
   "version": "3.10.0"
  }
 },
 "nbformat": 4,
 "nbformat_minor": 5
}
