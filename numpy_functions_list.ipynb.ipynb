{
 "cells": [
  {
   "cell_type": "code",
   "execution_count": 3,
   "metadata": {},
   "outputs": [],
   "source": [
    "import numpy as np"
   ]
  },
  {
   "cell_type": "code",
   "execution_count": 18,
   "metadata": {},
   "outputs": [
    {
     "name": "stdout",
     "output_type": "stream",
     "text": [
      "[1 2 3 4 5]\n",
      "<class 'numpy.ndarray'>\n"
     ]
    }
   ],
   "source": [
    "#a 에는 리스트\n",
    "a = [1, 2, 3, 4, 5]\n",
    "x = np.array(a)\n",
    "print(x)\n",
    "print(type(x))"
   ]
  },
  {
   "cell_type": "code",
   "execution_count": null,
   "metadata": {},
   "outputs": [
    {
     "name": "stdout",
     "output_type": "stream",
     "text": [
      "[ 2  4  6  8 10]\n"
     ]
    }
   ],
   "source": [
    "#배열 곱셈\n",
    "x = np.array([1, 2, 3, 4, 5])\n",
    "x_2 = x * 2\n",
    "print(x_2)"
   ]
  },
  {
   "cell_type": "code",
   "execution_count": null,
   "metadata": {},
   "outputs": [],
   "source": [
    "#배열 차원 확인\n",
    "x_1 = np.array([1, 2, 3])\n",
    "x_2 = np.array([[1, 2, 3], [4, 5, 6]])\n",
    "x_3 = np.array([[[1, 2, 3], [4, 5, 6]], [[1, 2, 3], [4, 5, 6]]])\n",
    "\n",
    "print(x_1.ndim)\n",
    "print(x_2.ndim)\n",
    "print(x_3.ndim)\n",
    "\n"
   ]
  },
  {
   "cell_type": "code",
   "execution_count": null,
   "metadata": {},
   "outputs": [],
   "source": [
    "#배열 모양 확인\n",
    "x_1 = np.array([1, 2, 3])\n",
    "x_2 = np.array([[1, 2, 3], [4, 5, 6]])\n",
    "x_3 = np.array([[[1, 2, 3], [4, 5, 6]], [[1, 2, 3], [4, 5, 6]]])\n",
    "\n",
    "for x in [x_1, x_2, x_3]:\n",
    "    print('-----')\n",
    "    print(x.ndim, x.shape)"
   ]
  },
  {
   "cell_type": "code",
   "execution_count": 10,
   "metadata": {},
   "outputs": [
    {
     "name": "stdout",
     "output_type": "stream",
     "text": [
      "[0. 0. 0.]\n",
      "[[1. 1. 1. 1.]\n",
      " [1. 1. 1. 1.]\n",
      " [1. 1. 1. 1.]]\n",
      "[0. 0. 0.]\n",
      "[[0.19462849 0.81109871 0.45773454]\n",
      " [0.45693703 0.50249078 0.84220925]]\n",
      "[[ 4 15  8 11 15]\n",
      " [ 7  3  2  7  1]\n",
      " [ 8 10 16 16 20]\n",
      " [ 1  3  2  7 16]]\n"
     ]
    }
   ],
   "source": [
    "# 임의 배열 생성\n",
    "x = np.zeros(3)\n",
    "print(x)\n",
    "y= np.ones((3, 4))\n",
    "print(y)\n",
    "z = np.empty((2, 3))\n",
    "print(x)\n",
    "a = np.random.rand(2, 3)\n",
    "print(a)\n",
    "b = np.random.randint(1, 21, size = 20).reshape(4, 5)\n",
    "print(b)"
   ]
  },
  {
   "cell_type": "code",
   "execution_count": 25,
   "metadata": {},
   "outputs": [
    {
     "name": "stdout",
     "output_type": "stream",
     "text": [
      "[5 7 9]\n",
      "[-3 -3 -3]\n",
      "[ 4 10 18]\n",
      "[0.25 0.4  0.5 ]\n"
     ]
    }
   ],
   "source": [
    "# 배열 연산\n",
    "x = np.array([1, 2, 3])\n",
    "y = np.array([4, 5, 6])\n",
    "print(x + y)\n",
    "print(x - y)\n",
    "print(x * y)\n",
    "print(x / y)"
   ]
  },
  {
   "cell_type": "code",
   "execution_count": null,
   "metadata": {},
   "outputs": [
    {
     "name": "stdout",
     "output_type": "stream",
     "text": [
      "[[ 82  88]\n",
      " [199 214]]\n"
     ]
    }
   ],
   "source": [
    "#배열 내적\n",
    "x = np.array([[1, 2, 3],\n",
    "              [4, 5, 6]])\n",
    "y = np.array([[11, 12],\n",
    "              [13, 14],\n",
    "              [15, 16]])\n",
    "print(np.dot(x, y))"
   ]
  },
  {
   "cell_type": "code",
   "execution_count": null,
   "metadata": {},
   "outputs": [],
   "source": [
    "#배열 변환\n",
    "x = np.array([[10, 11, 12],\n",
    "              [13, 14, 15]])\n",
    "print(x.reshape((3, -1)))\n",
    "print(x.flatten())"
   ]
  },
  {
   "cell_type": "code",
   "execution_count": 7,
   "metadata": {},
   "outputs": [
    {
     "name": "stdout",
     "output_type": "stream",
     "text": [
      "[2 5]\n",
      "[2 4 6 8]\n",
      "[2 4 6 8]\n"
     ]
    }
   ],
   "source": [
    "#배열 추출\n",
    "x = np.array([[1, 2, 3],\n",
    "              [4, 5, 6]])\n",
    "print(x[:, 1])\n",
    "\n",
    "y = np.array([1, 2, 3, 4, 5, 6, 7, 8, 9])\n",
    "print(y[1::2])\n",
    "\n",
    "z = y[y % 2 == 0]\n",
    "print(z)"
   ]
  },
  {
   "cell_type": "code",
   "execution_count": 36,
   "metadata": {},
   "outputs": [
    {
     "name": "stdout",
     "output_type": "stream",
     "text": [
      "[[ 1  2  3]\n",
      " [ 4  5  6]\n",
      " [10 11 12]\n",
      " [13 14 15]]\n",
      "[[ 1  2  3 10 11 12]\n",
      " [ 4  5  6 13 14 15]]\n"
     ]
    }
   ],
   "source": [
    "#배열 결합\n",
    "x = np.array([[1, 2, 3],\n",
    "              [4, 5, 6]])\n",
    "y = np.array([[10, 11, 12],\n",
    "              [13, 14, 15]])\n",
    "print(np.concatenate([x, y], 0))\n",
    "print(np.concatenate([x, y], 1))"
   ]
  },
  {
   "cell_type": "code",
   "execution_count": null,
   "metadata": {},
   "outputs": [],
   "source": [
    "#배열 연산2\n",
    "x = np.array([[1, 2, 3],\n",
    "              [4, 5, 6]])\n",
    "print(np.max(x))\n",
    "print(np.min(x))\n",
    "print(np.sum(x))\n",
    "print(np.prod(x)) #요소끼리 전부 곱하기기\n",
    "print(np.mean(x)) #평균\n",
    "print(np.std(x)) #표준편차\n",
    "print(np.var(x)) #분산\n",
    "print(np.median(x)) #중앙값"
   ]
  },
  {
   "cell_type": "code",
   "execution_count": null,
   "metadata": {},
   "outputs": [],
   "source": [
    "#배열 연산3\n",
    "x = np.array([[1, 2, 3],\n",
    "              [4, 5, 6]])\n",
    "print(np.log(x))\n",
    "print(np.sqrt(x))\n",
    "print(np.sin(x))\n",
    "print(np.cos(x))\n",
    "print(np.tan(x))\n",
    "print(np.pi) #원주율율"
   ]
  },
  {
   "cell_type": "code",
   "execution_count": 12,
   "metadata": {},
   "outputs": [
    {
     "name": "stdout",
     "output_type": "stream",
     "text": [
      "[[[ 0  1  2  3]\n",
      "  [ 4  5  6  7]\n",
      "  [ 8  9 10 11]]\n",
      "\n",
      " [[12 13 14 15]\n",
      "  [16 17 18 19]\n",
      "  [20 21 22 23]]]\n"
     ]
    }
   ],
   "source": [
    "x =np.arange(24).reshape(2,3,4)\n",
    "print(x)"
   ]
  }
 ],
 "metadata": {
  "kernelspec": {
   "display_name": "Python 3",
   "language": "python",
   "name": "python3"
  },
  "language_info": {
   "codemirror_mode": {
    "name": "ipython",
    "version": 3
   },
   "file_extension": ".py",
   "mimetype": "text/x-python",
   "name": "python",
   "nbconvert_exporter": "python",
   "pygments_lexer": "ipython3",
   "version": "3.10.0rc2"
  }
 },
 "nbformat": 4,
 "nbformat_minor": 2
}
