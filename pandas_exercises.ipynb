{
 "cells": [
  {
   "cell_type": "code",
   "execution_count": null,
   "id": "b8273b95",
   "metadata": {},
   "outputs": [
    {
     "name": "stdout",
     "output_type": "stream",
     "text": [
      "수현 90.33333333333333\n",
      "   이름  국어  수학  영어         평균\n",
      "0  철수  82  91  78  83.666667\n",
      "3  지민  88  92  80  86.666667\n",
      "   이름  국어  수학  영어         평균\n",
      "0  철수  82  91  78  83.666667\n",
      "1  영희  90  85  93  89.333333\n",
      "2  민수  76  79  84  79.666667\n",
      "3  지민  88  92  80  86.666667\n",
      "4  수현  95  87  89  90.333333\n"
     ]
    }
   ],
   "source": [
    "import pandas as pd\n",
    "\n",
    "# 샘플 데이터\n",
    "data = {\n",
    "    \"이름\": [\"철수\", \"영희\", \"민수\", \"지민\", \"수현\"],\n",
    "    \"국어\": [82, 90, 76, 88, 95],\n",
    "    \"수학\": [91, 85, 79, 92, 87],\n",
    "    \"영어\": [78, 93, 84, 80, 89]\n",
    "}\n",
    "df = pd.DataFrame(data)\n",
    "\n",
    "# 1) 국어 점수가 85 이상인 학생만 선택해 보세요.\n",
    "ans1 = df[df['국어'] >= 85]\n",
    "\n",
    "\n",
    "# 2) 이름과 수학 점수만 선택해 보세요.\n",
    "ans2 = df[['이름','수학']]\n",
    "\n",
    "# 3) 학생별로 세 과목의 평균 점수를 나타내는 '평균' 열을 추가해 보세요.\n",
    "df[\"평균\"] = df[[\"국어\",\"수학\",\"영어\"]].mean(axis=1)\n",
    "\n",
    "\n",
    "# 4) 평균이 가장 높은 학생 한 명의 이름과 평균 점수를 출력해 보세요.\n",
    "top_row = df.loc[df[\"평균\"].idxmax()]      # 평균이 가장 높은 행(Series)\n",
    "print(top_row[\"이름\"], top_row[\"평균\"])   # 이름과 평균 출력\n",
    "\n",
    "# 5) 수학 점수가 영어 점수보다 높은 학생만 선택해 보세요.\n",
    "ans5 = df.loc[df[\"수학\"] > df[\"영어\"]]\n",
    "print(ans5)\n",
    "print(df)"
   ]
  }
 ],
 "metadata": {
  "kernelspec": {
   "display_name": "Python 3",
   "language": "python",
   "name": "python3"
  },
  "language_info": {
   "codemirror_mode": {
    "name": "ipython",
    "version": 3
   },
   "file_extension": ".py",
   "mimetype": "text/x-python",
   "name": "python",
   "nbconvert_exporter": "python",
   "pygments_lexer": "ipython3",
   "version": "3.10.0"
  }
 },
 "nbformat": 4,
 "nbformat_minor": 5
}
