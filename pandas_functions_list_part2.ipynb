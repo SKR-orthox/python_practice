{
 "cells": [
  {
   "cell_type": "code",
   "execution_count": null,
   "id": "ba24424b",
   "metadata": {},
   "outputs": [],
   "source": [
    "#groupby 함수\n",
    "import pandas as pd\n",
    "\n",
    "df = pd.read_csv('pandas_sample_data.csv')\n",
    "df.groupby(\"등락률\").mean(numeric_only=True)\n",
    "df.groupby(\"시장구분\").mean(numeric_only=True)\n",
    "df.index=range(1,2880)\n",
    "display(df)"
   ]
  },
  {
   "cell_type": "code",
   "execution_count": null,
   "id": "14150b9e",
   "metadata": {},
   "outputs": [],
   "source": [
    "#인덱스(index) 설정\n",
    "import pandas as pd\n",
    "\n",
    "df = pd.read_csv('pandas_sample_data.csv')\n",
    "df_new=df.set_index('종목명')\n",
    "display(df)\n",
    "df.reset_index(inplace=True, drop=True)\n",
    "display(df)"
   ]
  },
  {
   "cell_type": "code",
   "execution_count": null,
   "id": "866a66b2",
   "metadata": {},
   "outputs": [],
   "source": [
    "#콜롬(columns) 설정\n",
    "import pandas as pd\n",
    "[str(x).zfill(3) for x in range(1,10)]\n",
    "df.index = [str(x).zfill(5) for x in range(1,2880)]\n",
    "display(df)"
   ]
  },
  {
   "cell_type": "code",
   "execution_count": null,
   "id": "baea51a3",
   "metadata": {},
   "outputs": [
    {
     "name": "stderr",
     "output_type": "stream",
     "text": [
      "c:\\Users\\zunda\\AppData\\Local\\Programs\\Python\\Python310\\lib\\site-packages\\openpyxl\\styles\\stylesheet.py:237: UserWarning: Workbook contains no default style, apply openpyxl's default\n",
      "  warn(\"Workbook contains no default style, apply openpyxl's default\")\n"
     ]
    }
   ],
   "source": [
    "#DataFrame 결합, 만약 공통되지 않은 부분이 있다면 그 부분은 NaN 이 됨\n",
    "import pandas as pd\n",
    "df_1 = pd.read_csv('pandas_sample_data.csv')\n",
    "df_2 = pd.read_excel('pandas_data_xlsx.xlsx')\n",
    "\n",
    "df_new = pd.concat([df_1,df_2])\n",
    "df_new2 = pd.concat([df_1,df_2], axis = 1) # 옆으로 붙이고 싶을 때는 이렇게"
   ]
  },
  {
   "cell_type": "code",
   "execution_count": null,
   "id": "fde2c415",
   "metadata": {},
   "outputs": [],
   "source": [
    "#결합 실전\n",
    "import pandas as pd\n",
    "df_1 = pd.read_csv('pandas_sample_data.csv')\n",
    "df_2 = pd.read_excel('pandas_data_xlsx.xlsx')\n",
    "\n",
    "df_1 = df_1[[\"종목명\",\"시장구분\"]]\n",
    "df_2 = df_2[[\"시가\",\"고가\",\"저가\"]]\n",
    "\n",
    "pd.concat([df_1, df_2]) #이건 세로로 붙임, 할당되지 않은 값은 NaN\n",
    "pd.concat([df_1, df_2], axis = 1) #이건 가로로 붙이기기"
   ]
  },
  {
   "cell_type": "code",
   "execution_count": null,
   "id": "f9aa697c",
   "metadata": {},
   "outputs": [],
   "source": [
    "#merge 결합\n",
    "import pandas as pd\n",
    "df_1 = pd.read_csv('pandas_sample_data.csv')\n",
    "df_2 = pd.read_excel('pandas_data_xlsx.xlsx')\n",
    "df_1 = df_1[[\"시가\",\"시장구분\"]]\n",
    "df_2 = df_2[[\"종목명\",\"시가\",\"고가\",\"저가\"]]\n",
    "\n",
    "pd.merge(df_1, df_2, on=\"시가\") # 공통된 한가지로 결합\n",
    "pd.merge(df_1, df_2, on=\"시가\", how='left') #이러면 왼쪽(df_1)의 '시가' 에 없는 데이터 말고 있는 데이터만 가져오고 오른쪽의 시가에만 있는거는 안가져옴, 왼쪽에만 있고 오른쪽에는 없으면 오른쪽에는 Nan, 반대는 'right'\n",
    "#같은 키가 한쪽엔 한개, 반대쪽엔 여러개 있으면, 하나만 있는쪽 데이터가 여러번 나옴\n",
    "#merge는 한번에 3개가 안되므로, 3개를 하려면 일단 2개를 합치고 나머지 한개를 합치기"
   ]
  },
  {
   "cell_type": "code",
   "execution_count": null,
   "id": "279c7f17",
   "metadata": {},
   "outputs": [],
   "source": [
    "#Lambda, map 함수수\n",
    "import pandas as pd\n",
    "\n",
    "df = pd.read_csv('pandas_sample_data.csv')\n",
    "df['구분']=df['시가총액'].map(lambda x:'대기업' if x>=10000000000000 else '중견기업')\n",
    "display(df)"
   ]
  },
  {
   "cell_type": "code",
   "execution_count": null,
   "id": "30f362ab",
   "metadata": {},
   "outputs": [
    {
     "data": {
      "text/plain": [
       "<Axes: xlabel='종목명'>"
      ]
     },
     "execution_count": 13,
     "metadata": {},
     "output_type": "execute_result"
    },
    {
     "data": {
      "image/png": "[encoded data removed]",
      "text/plain": [
       "<Figure size 640x480 with 1 Axes>"
      ]
     },
     "metadata": {},
     "output_type": "display_data"
    }
   ],
   "source": [
    "#간단한 그래프 작성, 맷플롯립은 한글깨짐방지지\n",
    "import pandas as pd\n",
    "import matplotlib.pyplot as plt\n",
    "import matplotlib\n",
    "matplotlib.rc('font', family='Malgun Gothic')  # 또는 '맑은 고딕'\n",
    "\n",
    "df = pd.read_csv('pandas_sample_data.csv')\n",
    "\n",
    "df.plot(x='종목명', y='시가총액')"
   ]
  }
 ],
 "metadata": {
  "kernelspec": {
   "display_name": "Python 3",
   "language": "python",
   "name": "python3"
  },
  "language_info": {
   "codemirror_mode": {
    "name": "ipython",
    "version": 3
   },
   "file_extension": ".py",
   "mimetype": "text/x-python",
   "name": "python",
   "nbconvert_exporter": "python",
   "pygments_lexer": "ipython3",
   "version": "3.10.0"
  }
 },
 "nbformat": 4,
 "nbformat_minor": 5
}
