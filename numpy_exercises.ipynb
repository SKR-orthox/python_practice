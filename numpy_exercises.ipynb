{
 "cells": [
  {
   "cell_type": "code",
   "execution_count": null,
   "id": "0fda7315",
   "metadata": {},
   "outputs": [
    {
     "name": "stdout",
     "output_type": "stream",
     "text": [
      "[[1 2 3]\n",
      " [4 5 6]\n",
      " [7 8 9]]\n",
      "[1 2 3 4 5 6 7 8 9]\n",
      "[ 4 16 36 64]\n"
     ]
    }
   ],
   "source": [
    "import numpy as np\n",
    "\n",
    "# 1부터 9까지의 숫자를 가진 3x3 배열을 만들어 보세요.\n",
    "x = list(range(1, 10))\n",
    "y = np.array(x)\n",
    "array = y.reshape(3, 3)\n",
    "print(array)\n",
    "\n",
    "# 이 배열을 사용해서 새로운 배열을 만들어 보세요.\n",
    "# 조건: 짝수만 골라내고, 그 짝수들을 모두 제곱하세요.\n",
    "a = array.reshape(-1, )\n",
    "print(a)\n",
    "b = a[1::2]\n",
    "result = b**2\n",
    "print(result)\n",
    "\n",
    "\n",
    "#모범답안\n",
    "\"\"\"import numpy as np\n",
    "\n",
    "x = np.arange(1, 10).reshape(3, 3)\n",
    "result = x[x % 2 == 0] ** 2\n",
    "print(result)\"\"\""
   ]
  },
  {
   "cell_type": "code",
   "execution_count": null,
   "id": "8469a692",
   "metadata": {},
   "outputs": [
    {
     "name": "stdout",
     "output_type": "stream",
     "text": [
      "[[20  7  9 10  9]\n",
      " [14 13  8 20  7]\n",
      " [14 13 18  3 12]\n",
      " [ 6  1 13 17 10]]\n",
      "[ 9  9 18 12  6]\n",
      "[324 144]\n"
     ]
    }
   ],
   "source": [
    "import numpy as np\n",
    "\n",
    "# 1부터 20까지의 정수를 무작위로 섞어 4x5 배열로 만드세요.\n",
    "# (seed를 설정해서 재실행해도 같은 결과가 나오게 하세요)\n",
    "# 조건1: 배열 전체에서 3의 배수이면서 5보다 큰 값만 고르세요.\n",
    "# 조건2: 그 값들의 평균을 구하고, 평균보다 큰 값들만 제곱한 새로운 배열을 만드세요.\n",
    "# 최종적으로 그 배열을 출력하세요.\n",
    "\n",
    "# 예: 4x5 배열 -> 조건을 만족하는 값 -> 평균 -> 평균 초과 값 -> 제곱\n",
    "np.random.seed(23)\n",
    "array = np.random.randint(1, 21, size = 20).reshape(4, 5)\n",
    "print(array)\n",
    "\n",
    "a = array[array % 3 == 0]\n",
    "x = a[a > 5]\n",
    "print(x)\n",
    "\n",
    "b = np.mean(x)\n",
    "c = x[x > b]\n",
    "y = c**2\n",
    "print(y)\n",
    "\n",
    "\n",
    "#모범답안\n",
    "\"\"\"import numpy as np\n",
    "\n",
    "np.random.seed(23)\n",
    "arr = np.random.randint(1, 21, size=20).reshape(4, 5)\n",
    "\n",
    "# 3의 배수이면서 5보다 큰 값 중에서\n",
    "# 평균보다 큰 값만 제곱\n",
    "result = arr[(arr % 3 == 0) & (arr > 5)]\n",
    "result = result[result > result.mean()] ** 2\n",
    "\n",
    "print(result)\"\"\"\n"
   ]
  }
 ],
 "metadata": {
  "kernelspec": {
   "display_name": "Python 3",
   "language": "python",
   "name": "python3"
  },
  "language_info": {
   "codemirror_mode": {
    "name": "ipython",
    "version": 3
   },
   "file_extension": ".py",
   "mimetype": "text/x-python",
   "name": "python",
   "nbconvert_exporter": "python",
   "pygments_lexer": "ipython3",
   "version": "3.10.0"
  }
 },
 "nbformat": 4,
 "nbformat_minor": 5
}
